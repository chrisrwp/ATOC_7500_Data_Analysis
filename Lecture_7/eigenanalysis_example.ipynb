{
 "cells": [
  {
   "cell_type": "code",
   "execution_count": 1,
   "metadata": {},
   "outputs": [],
   "source": [
    "### ATOC7500 - eigenanalysis_example\n",
    "## coded by Vineel Yettella (University of Colorado)\n",
    "## Last updated February 15, 2019\n",
    "\n",
    "import numpy as np\n",
    "import matplotlib.pyplot as plt\n",
    "import pandas as pd\n",
    "import numpy.linalg as LA\n",
    "%matplotlib inline"
   ]
  },
  {
   "cell_type": "markdown",
   "metadata": {},
   "source": [
    "### 1) Create a synthetic 2d dataset, plot it, and print some summary statistics."
   ]
  },
  {
   "cell_type": "code",
   "execution_count": 2,
   "metadata": {},
   "outputs": [
    {
     "name": "stdout",
     "output_type": "stream",
     "text": [
      "x1: [2.720386   2.17948603 3.96576067 4.41690468 3.82153232]\n",
      "x2: [10.26861679  9.62503418 10.87184736 10.17472835 10.51420689]\n",
      "\n",
      "\n",
      "Sample mean of x1: 2.956338043914563\n",
      "Sample mean of x2: 9.915725445019698\n",
      "Sample variance of x1: 3.146686967516814\n",
      "Sample variance of x2: 0.71315776098925\n",
      "Total variance in the data: 3.859844728506064\n",
      "\n",
      "\n",
      "Covariance Matrix\n",
      "[[4.  1.6]\n",
      " [1.6 1. ]]\n"
     ]
    },
    {
     "data": {
      "image/png": "[encoded data removed]",
      "text/plain": [
       "<Figure size 432x288 with 1 Axes>"
      ]
     },
     "metadata": {
      "needs_background": "light"
     },
     "output_type": "display_data"
    }
   ],
   "source": [
    "## Create the synthetic 2d dataset\n",
    "\n",
    "#Choose the number of samples M\n",
    "M = 50\n",
    "\n",
    "variance_x1 = 4\n",
    "variance_x2 = 1\n",
    "mean_x1 = 3\n",
    "mean_x2 = 10\n",
    "\n",
    "#specified correlation between -1 and 1 to construct a valid covariance matrix\n",
    "rho12 = 0.8\n",
    "\n",
    "#create the population covariance matrix\n",
    "covariance_matrix = [[variance_x1, rho12*np.sqrt(variance_x1*variance_x2)], [rho12*np.sqrt(variance_x1*variance_x2), variance_x2]]\n",
    "covariance_matrix = np.around(covariance_matrix, decimals=3)\n",
    "\n",
    "means = [mean_x1, mean_x2]\n",
    "means = np.around(means, decimals=3)\n",
    "\n",
    "#simulate\n",
    "x1, x2 = np.random.multivariate_normal(means, covariance_matrix, M).T\n",
    "\n",
    "#print a few values\n",
    "print ('x1:', x1[0:5])\n",
    "print('x2:', x2[0:5])\n",
    "\n",
    "#print some summary statistics\n",
    "print('\\n')\n",
    "print(\"Sample mean of x1: {}\".format(np.mean(x1)))\n",
    "print(\"Sample mean of x2: {}\".format(np.mean(x2)))\n",
    "print(\"Sample variance of x1: {}\".format(np.var(x1)))\n",
    "print(\"Sample variance of x2: {}\".format(np.var(x2)))\n",
    "print(\"Total variance in the data: {}\".format(np.var(x1) + np.var(x2)))\n",
    "print('\\n')\n",
    "print(\"Covariance Matrix\")\n",
    "print(covariance_matrix)\n",
    "\n",
    "#plot x1, x2\n",
    "plt.scatter(x1, x2, s=50, color = 'black')\n",
    "plt.axis('equal')\n",
    "plt.xlabel('x1')\n",
    "plt.ylabel('x2')\n",
    "plt.grid(alpha = 0.4)\n",
    "plt.rcParams['axes.labelsize']=15\n"
   ]
  },
  {
   "cell_type": "markdown",
   "metadata": {},
   "source": [
    "### 2) Calculate the eigenvectors and eigenvalues of the synthetic 2d dataset."
   ]
  },
  {
   "cell_type": "code",
   "execution_count": 34,
   "metadata": {},
   "outputs": [],
   "source": [
    "A = [[ 3,-2, 0],\n",
    "     [-2, 3, 0],\n",
    "     [ 0, 0, 5]]"
   ]
  },
  {
   "cell_type": "code",
   "execution_count": 36,
   "metadata": {},
   "outputs": [],
   "source": [
    "A = [[ 2, 0, 0],\n",
    "     [ 0, 4, 5],\n",
    "     [ 0, 4, 3]]"
   ]
  },
  {
   "cell_type": "code",
   "execution_count": 38,
   "metadata": {},
   "outputs": [],
   "source": [
    "A = [[ 0, 1],\n",
    "     [-2,-3]]"
   ]
  },
  {
   "cell_type": "code",
   "execution_count": 39,
   "metadata": {},
   "outputs": [
    {
     "name": "stdout",
     "output_type": "stream",
     "text": [
      "eigenvalues \n",
      " [-1. -2.] \n",
      "\n",
      "eigenvectors \n",
      " [[ 0.70710678 -0.4472136 ]\n",
      " [-0.70710678  0.89442719]]\n"
     ]
    }
   ],
   "source": [
    "eigenvalues, eigenvectors = LA.eig(A)\n",
    "print('eigenvalues', '\\n', eigenvalues, '\\n')\n",
    "print('eigenvectors', '\\n', eigenvectors)"
   ]
  },
  {
   "cell_type": "code",
   "execution_count": 12,
   "metadata": {},
   "outputs": [
    {
     "name": "stdout",
     "output_type": "stream",
     "text": [
      "Data matrix X shape: (50, 2) \n",
      "\n",
      "Covariance Matrix:  \n",
      " [[3.21090507 1.11643531]\n",
      " [1.11643531 0.727712  ]] \n",
      "\n",
      "eigen values: [3.63903598 0.29958109] \n",
      "\n",
      "eigen vectors:\n",
      "[[ 0.93370026 -0.35805563]\n",
      " [ 0.35805563  0.93370026]]\n",
      "\n",
      "\n",
      "Sum of eigen values: 3.9386170699041467\n",
      "Total variance in the data 3.9386170699041467\n"
     ]
    }
   ],
   "source": [
    "##Do the eigenanalysis\n",
    "\n",
    "#construct data matrix X, convention: variables across columns and observations across rows\n",
    "X = np.array([x1, x2]).T\n",
    "print('Data matrix X shape:', X.shape, '\\n')\n",
    "\n",
    "X = X - np.mean(X, axis = 0) #remove mean from each column\n",
    "\n",
    "#construct sample covariance matrix C\n",
    "C  = (1/(M - 1))*np.dot(X.T, X)\n",
    "print('Covariance Matrix: ','\\n', C, '\\n')\n",
    "#Alternatively, you could use numpy's cov function\n",
    "\n",
    "eigenvals, eigenvecs = LA.eig(C) #compute eigenvectors and eigenvalues\n",
    "\n",
    "inds = np.argsort(eigenvals) #eigen values in descending order\n",
    "eigenvals = eigenvals[inds[::-1]] #reverse this array\n",
    "eigenvecs = eigenvecs[:, inds[::-1]] #sort eigen vectors accordingly\n",
    "\n",
    "print('eigen values:', eigenvals,'\\n')\n",
    "print('eigen vectors:')\n",
    "print(eigenvecs)\n",
    "print('\\n')\n",
    "\n",
    "print('Sum of eigen values:', np.sum(eigenvals))\n",
    "print('Total variance in the data', np.sum(np.diag(C)))"
   ]
  },
  {
   "cell_type": "markdown",
   "metadata": {},
   "source": [
    "### 3) Plot the eigenvectors to show how they capture the orthogonal directions along which most of the variability in the dataset is explained."
   ]
  },
  {
   "cell_type": "code",
   "execution_count": 44,
   "metadata": {},
   "outputs": [
    {
     "data": {
      "image/png": "[encoded data removed]",
      "text/plain": [
       "<Figure size 432x288 with 1 Axes>"
      ]
     },
     "metadata": {
      "needs_background": "light"
     },
     "output_type": "display_data"
    }
   ],
   "source": [
    "#plot eigen vectors\n",
    "fig, ax = plt.subplots()\n",
    "plt.scatter(x1, x2, s=100, color = 'black')\n",
    "plt.axis('equal')\n",
    "plt.xlabel('x1')\n",
    "plt.ylabel('x2')\n",
    "plt.grid(alpha = 0.4)\n",
    "ylim = plt.ylim()\n",
    "xlim = plt.xlim()\n",
    "#plot eigen vector 1\n",
    "plt.plot([-10*eigenvecs[0,0] + np.mean(x1), 10*eigenvecs[0,0] + np.mean(x1)],\n",
    "         [-10*eigenvecs[1,0] + np.mean(x2), 10*eigenvecs[1,0] + np.mean(x2)], \n",
    "         linestyle = '--',color = 'red', label = 'eigen vector 1')\n",
    "#plot eigen vector 2\n",
    "plt.plot([-10*eigenvecs[0,1] + np.mean(x1), 10*eigenvecs[0,1] + np.mean(x1)],\n",
    "         [-10*eigenvecs[1,1] + np.mean(x2), 10*eigenvecs[1,1] + np.mean(x2)], \n",
    "         linestyle = '--',color = 'blue', label = 'eigen vector 2')\n",
    "plt.ylim(ylim);\n",
    "plt.xlim(xlim);\n",
    "plt.legend(fontsize = 13);"
   ]
  }
 ],
 "metadata": {
  "kernelspec": {
   "display_name": "Python 3",
   "language": "python",
   "name": "python3"
  },
  "language_info": {
   "codemirror_mode": {
    "name": "ipython",
    "version": 3
   },
   "file_extension": ".py",
   "mimetype": "text/x-python",
   "name": "python",
   "nbconvert_exporter": "python",
   "pygments_lexer": "ipython3",
   "version": "3.6.11"
  }
 },
 "nbformat": 4,
 "nbformat_minor": 4
}
