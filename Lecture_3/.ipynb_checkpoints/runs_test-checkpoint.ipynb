{
 "cells": [
  {
   "cell_type": "code",
   "execution_count": 1,
   "metadata": {},
   "outputs": [],
   "source": [
    "##### ATOC7500 - runs_test - Lecture #3\n",
    "##### Coded by Prof. Libby Barnes (CSU), minor updates from Prof. Kay (CU)\n",
    "##### Last updated: September 9, 2020\n",
    "\n",
    "import numpy as np\n",
    "import matplotlib.pyplot as plt\n",
    "import scipy.stats as stats\n",
    "import matplotlib as mpl\n",
    "# set figure defaults\n",
    "mpl.rcParams['figure.dpi'] = 150\n",
    "plt.rcParams['figure.figsize'] = (12.0/2, 8.0/2)"
   ]
  },
  {
   "cell_type": "code",
   "execution_count": 2,
   "metadata": {},
   "outputs": [],
   "source": [
    "## Here I present an example of a simple non-parametric test to determine whether samples in a series are random.\n",
    "\n",
    "## To start - I define a function to count \"runs\".\n",
    "\n",
    "def count_runs(x):\n",
    "    Npos = 0\n",
    "    Nneg = 0\n",
    "\n",
    "    sgn = np.nan\n",
    "    for val in x:\n",
    "        if(np.sign(val)!=sgn):\n",
    "            if(np.sign(val)>0):\n",
    "                Npos+=1\n",
    "            else:\n",
    "                Nneg+=1\n",
    "            sgn = np.sign(val)\n",
    "\n",
    "    runs = Npos + Nneg        \n",
    "    return runs"
   ]
  },
  {
   "cell_type": "code",
   "execution_count": 3,
   "metadata": {},
   "outputs": [
    {
     "data": {
      "image/png": "[encoded data removed]",
      "text/plain": [
       "<Figure size 432x288 with 1 Axes>"
      ]
     },
     "metadata": {
      "needs_background": "light"
     },
     "output_type": "display_data"
    }
   ],
   "source": [
    "## Make some synthetic data to show how the runs function (above) works. \n",
    "## Plot the synthetic data to visualize what is happening.  \"Look at your data!!\"\n",
    "\n",
    "N = 100\n",
    "x = np.random.uniform(-1.,1.,N)\n",
    "for i,val in enumerate(x):\n",
    "    if(val>0):\n",
    "        plt.bar(i,val, color = 'red');\n",
    "    else:\n",
    "        plt.bar(i,val, color = 'cornflowerblue');\n",
    "\n",
    "plt.title('# Runs = ' + str(count_runs(x)));  "
   ]
  },
  {
   "cell_type": "code",
   "execution_count": 4,
   "metadata": {},
   "outputs": [],
   "source": [
    "## Now create a series that is 100 in length. Loop through it 2000, mixing it every time and \n",
    "## counting the number of runs. I have set the example up this way to ensure we always have \n",
    "## exactly the same number of positive and negative values each loop - they are just ordered differently. \n",
    "## (The runs test holds for a specific number of positive and negative values.)\n",
    "\n",
    "N = 100\n",
    "y = np.random.uniform(-1.,1.,N)\n",
    "\n",
    "runs = np.zeros((2000,))\n",
    "for iloop in np.arange(0,len(runs)):\n",
    "        x = np.random.choice(y,len(y))\n",
    "        runs[iloop] = count_runs(x)"
   ]
  },
  {
   "cell_type": "code",
   "execution_count": 5,
   "metadata": {},
   "outputs": [
    {
     "name": "stdout",
     "output_type": "stream",
     "text": [
      "# Positive = 53, # Negative = 47\n",
      "muTheory = 50.82, sigmaTheory = 4.956591774617113\n"
     ]
    }
   ],
   "source": [
    "## Determine the distribution of runs predicted by theory. \n",
    "## Specifically, this is a normal distribution with mean of  𝜇𝑡ℎ𝑒𝑜𝑟𝑦  \n",
    "## and standard deviation of  𝜎𝑡ℎ𝑒𝑜𝑟𝑦  given below.\n",
    "\n",
    "Npos = len(np.where(x>0)[0])\n",
    "Nneg = len(np.where(x<0)[0])\n",
    "print('# Positive = ' + str(Npos) + ', # Negative = ' + str(Nneg))\n",
    "\n",
    "#Theory\n",
    "N = Npos + Nneg\n",
    "muTheory = 1 + (2*Npos*Nneg)/N\n",
    "sigmaTheory = np.sqrt((muTheory-1)*(muTheory-2)/(N-1))\n",
    "print('muTheory = ' + str(muTheory) + ', sigmaTheory = ' + str(sigmaTheory))"
   ]
  },
  {
   "cell_type": "code",
   "execution_count": 6,
   "metadata": {},
   "outputs": [
    {
     "data": {
      "image/png": "[encoded data removed]",
      "text/plain": [
       "<Figure size 432x288 with 1 Axes>"
      ]
     },
     "metadata": {
      "needs_background": "light"
     },
     "output_type": "display_data"
    }
   ],
   "source": [
    "xbins = np.arange(0,600,1)\n",
    "hx = np.histogram(runs,xbins)\n",
    "plt.plot(xbins[:-1],hx[0]/len(runs), linewidth=2,label='monte carlo');\n",
    "plt.plot(xbins[:-1],stats.norm.pdf(xbins[:-1],loc = muTheory, scale=sigmaTheory),'-',color='darkorange',linewidth=2,label='theory using Normal');\n",
    "plt.xlim(0,N);\n",
    "plt.xlabel('number of runs');\n",
    "plt.ylabel('frequency');\n",
    "plt.legend();"
   ]
  },
  {
   "cell_type": "code",
   "execution_count": null,
   "metadata": {},
   "outputs": [],
   "source": []
  }
 ],
 "metadata": {
  "kernelspec": {
   "display_name": "Python 3",
   "language": "python",
   "name": "python3"
  },
  "language_info": {
   "codemirror_mode": {
    "name": "ipython",
    "version": 3
   },
   "file_extension": ".py",
   "mimetype": "text/x-python",
   "name": "python",
   "nbconvert_exporter": "python",
   "pygments_lexer": "ipython3",
   "version": "3.6.11"
  }
 },
 "nbformat": 4,
 "nbformat_minor": 4
}
