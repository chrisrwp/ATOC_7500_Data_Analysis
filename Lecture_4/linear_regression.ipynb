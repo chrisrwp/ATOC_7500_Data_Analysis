{
 "cells": [
  {
   "cell_type": "code",
   "execution_count": 1,
   "metadata": {},
   "outputs": [],
   "source": [
    "### ATOC7500 Lecture #4 - linear_regression\n",
    "### coded by Prof. Jennifer Kay (University of Colorado)\n",
    "### last updated September 14, 2020\n",
    "\n",
    "import numpy as np\n",
    "import matplotlib\n",
    "%matplotlib inline\n",
    "import matplotlib.pyplot as plt\n",
    "import xarray\n",
    "import pandas as pd   ##pandas reads in .csv.\n",
    "from scipy import stats\n",
    "import seaborn as sns  ### seaborn just makes things pretty -- no new typing\n",
    "sns.set_style('whitegrid')  ###  change away from grey grid (seaborn default) to white grid"
   ]
  },
  {
   "cell_type": "code",
   "execution_count": 7,
   "metadata": {},
   "outputs": [
    {
     "data": {
      "image/png": "[encoded data removed]",
      "text/plain": [
       "<Figure size 432x288 with 1 Axes>"
      ]
     },
     "metadata": {
      "needs_background": "light"
     },
     "output_type": "display_data"
    }
   ],
   "source": [
    "### Make some random data\n",
    "xdata=np.random.randn()*np.arange(0,10,0.5)\n",
    "ydata=np.random.randn()*np.arange(0,10,0.5)+3.0\n",
    "plt.plot(xdata,ydata);\n",
    "plt.xlabel('X Data',fontsize=14);\n",
    "plt.ylabel('Y Data',fontsize=14);"
   ]
  },
  {
   "cell_type": "code",
   "execution_count": 8,
   "metadata": {},
   "outputs": [
    {
     "name": "stdout",
     "output_type": "stream",
     "text": [
      "direct method slope_direct:  5.376\n",
      "direct method intercept_direct:  3.0\n",
      "direct method rvalue_direct:  1.0\n"
     ]
    }
   ],
   "source": [
    "### Calculate the correlation statistics - direct (and fast) way\n",
    "### Shows calculation using equations in Barnes notes\n",
    "xdata_anom=xdata-np.mean(xdata)\n",
    "ydata_anom=ydata-np.mean(ydata)\n",
    "variancex=np.sum((xdata_anom*xdata_anom))\n",
    "variancey=np.sum((ydata_anom*ydata_anom))\n",
    "covariance=np.dot(xdata_anom,ydata_anom)\n",
    "slope_direct=covariance/variancex                          ##Barnes Chapter 2, Eq. (14)\n",
    "intercept_direct=np.mean(ydata)-slope_direct*np.mean(xdata)  ##Barnes Chapter 2, Eq. (15)\n",
    "rvalue_direct=np.dot(xdata_anom,ydata_anom)/(np.sqrt(variancex)*np.sqrt(variancey)) ##Barnes Chapter 2, Eq. (31)\n",
    "print('direct method slope_direct: ',round(slope_direct,3))\n",
    "print('direct method intercept_direct: ',round(intercept_direct,3))\n",
    "print('direct method rvalue_direct: ',round(rvalue_direct,3))"
   ]
  },
  {
   "cell_type": "code",
   "execution_count": 5,
   "metadata": {},
   "outputs": [
    {
     "name": "stdout",
     "output_type": "stream",
     "text": [
      "scipy.stats.linregress slope:  0.463\n",
      "scipy.stats.linregress intercept:  3.0\n",
      "scipy.stats.linregress r_value:  1.0\n"
     ]
    }
   ],
   "source": [
    "### Calculate the correlation statistics - slow way, but convenient, answers should be the same...\n",
    "slope, intercept, r_value, p_value, std_err = stats.linregress(xdata,ydata)\n",
    "print('scipy.stats.linregress slope: ',round(slope,3))\n",
    "print('scipy.stats.linregress intercept: ',round(intercept,3))\n",
    "print('scipy.stats.linregress r_value: ',round(r_value,3))"
   ]
  },
  {
   "cell_type": "code",
   "execution_count": null,
   "metadata": {},
   "outputs": [],
   "source": []
  }
 ],
 "metadata": {
  "kernelspec": {
   "display_name": "Python 3",
   "language": "python",
   "name": "python3"
  },
  "language_info": {
   "codemirror_mode": {
    "name": "ipython",
    "version": 3
   },
   "file_extension": ".py",
   "mimetype": "text/x-python",
   "name": "python",
   "nbconvert_exporter": "python",
   "pygments_lexer": "ipython3",
   "version": "3.6.11"
  }
 },
 "nbformat": 4,
 "nbformat_minor": 4
}
