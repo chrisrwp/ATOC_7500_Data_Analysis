{
 "cells": [
  {
   "cell_type": "code",
   "execution_count": 19,
   "metadata": {},
   "outputs": [],
   "source": [
    "### ATOC7500 Lecture #5 - multiple_linear_regression_grades\n",
    "### coded by Prof. Jennifer Kay (University of Colorado)\n",
    "### last updated September 16, 2020\n",
    "\n",
    "import numpy as np\n",
    "import matplotlib\n",
    "%matplotlib inline\n",
    "import matplotlib.pyplot as plt\n",
    "import xarray\n",
    "import pandas as pd   ##pandas reads in .csv.\n",
    "from scipy import stats\n",
    "import seaborn as sns  ### seaborn just makes things pretty -- no new typing\n",
    "sns.set_style('whitegrid')  ###  change away from grey grid (seaborn default) to white grid\n",
    "import statsmodels.api as sm\n",
    "import statsmodels.formula.api as smf\n",
    "from sklearn import linear_model\n",
    "from sklearn import metrics"
   ]
  },
  {
   "cell_type": "code",
   "execution_count": 20,
   "metadata": {},
   "outputs": [],
   "source": [
    "filename = 'class_grades_detailed_anonymous.csv'\n",
    "data=pd.read_csv(filename,sep=',')\n",
    "#print(data)"
   ]
  },
  {
   "cell_type": "code",
   "execution_count": 21,
   "metadata": {},
   "outputs": [
    {
     "data": {
      "image/png": "[encoded data removed]",
      "text/plain": [
       "<Figure size 432x288 with 1 Axes>"
      ]
     },
     "metadata": {},
     "output_type": "display_data"
    }
   ],
   "source": [
    "### Assign X and Y data\n",
    "x1data=data['midterm1']\n",
    "x2data=data['midterm2']\n",
    "ydata=data['final']\n",
    "N=len(ydata)\n",
    "plt.scatter(x1data,ydata,color='blue',label='midterm1');\n",
    "plt.scatter(x2data,ydata,color='red',label='midterm2');\n",
    "plt.xlabel('X Data - midterm exam grade');\n",
    "plt.ylabel('Y Data - final exam grade');\n",
    "plt.legend();"
   ]
  },
  {
   "cell_type": "code",
   "execution_count": 22,
   "metadata": {},
   "outputs": [
    {
     "name": "stdout",
     "output_type": "stream",
     "text": [
      "r_value_x1y:  0.66\n",
      "r2_value_x1y:  0.44\n",
      "r_value_x2y:  0.66\n",
      "r2_value_x2y:  0.44\n",
      "r_value_x2x1:  0.61\n"
     ]
    }
   ],
   "source": [
    "### Calculate the correlation statistics\n",
    "slope, intercept, r_value_x1y, p_value, std_err = stats.linregress(x1data,ydata)\n",
    "print('r_value_x1y: ',round(r_value_x1y,2))\n",
    "print('r2_value_x1y: ',round(r_value_x1y*r_value_x1y,2))\n",
    "slope, intercept, r_value_x2y, p_value, std_err = stats.linregress(x2data,ydata)\n",
    "print('r_value_x2y: ',round(r_value_x2y,2))\n",
    "print('r2_value_x2y: ',round(r_value_x2y*r_value_x2y,2))\n",
    "### Calculate the correlation coefficient between X1 and X2\n",
    "slope, intercept, r_value_x2x1, p_value, std_err = stats.linregress(x2data,x1data)\n",
    "print('r_value_x2x1: ',round(r_value_x2x1,2))"
   ]
  },
  {
   "cell_type": "code",
   "execution_count": 23,
   "metadata": {},
   "outputs": [
    {
     "name": "stdout",
     "output_type": "stream",
     "text": [
      "minimum r needed to be useful(r_min) 0.41\n",
      "r_value_x2y:  0.66\n",
      "Since r_value_x2y exceeds r_min -- adding midterm2 is useful\n"
     ]
    }
   ],
   "source": [
    "### Does adding midterm2 improve your ability to predict the final exam grade?\n",
    "### Calculate the minimum useful correlation and compare it.\n",
    "r_min=r_value_x1y*r_value_x2x1\n",
    "print('minimum r needed to be useful(r_min)',round(r_min,2))\n",
    "print('r_value_x2y: ',round(r_value_x2y,2))\n",
    "print('Since r_value_x2y exceeds r_min -- adding midterm2 is useful')"
   ]
  },
  {
   "cell_type": "code",
   "execution_count": 24,
   "metadata": {},
   "outputs": [
    {
     "name": "stdout",
     "output_type": "stream",
     "text": [
      "Variance explained (R2) is larger with two predictors than with one: 0.55 > 0.44\n"
     ]
    }
   ],
   "source": [
    "### Ok Let's do multiple linear regression.\n",
    "### We'll use both midterm1 and midterm2 to predict the final exam grade.\n",
    "\n",
    "#---------------------------------------------\n",
    "# both x1 and x2 predictors\n",
    "X = np.swapaxes([x1data,x2data],1,0)\n",
    "Y = np.swapaxes([ydata],1,0)\n",
    "\n",
    "# with sklearn\n",
    "regr = linear_model.LinearRegression()\n",
    "regr.fit(X, Y)\n",
    "R2_x12 = metrics.r2_score(Y,regr.predict(X))\n",
    "\n",
    "print('Variance explained (R2) is larger with two predictors than with one: \\\n",
    "'+str(round(R2_x12,2))+' > '+str(round(r_value_x2y*r_value_x2y,2)))"
   ]
  },
  {
   "cell_type": "code",
   "execution_count": 18,
   "metadata": {},
   "outputs": [],
   "source": [
    "### note: this code not working in my python distribution... ignore it.  i'll fix it another time.\n",
    "\n",
    "#x = np.column_stack((x1data,x2data))\n",
    "#x = sm.add_constant(x, prepend=True)\n",
    "#results = smf.OLS(ydata,x).fit()\n",
    "#print(results.summary())\n",
    "#print('Variance Explained:',results.rsquared)\n",
    "\n",
    "#a0=results.params.const\n",
    "#a1=results.params.x1\n",
    "#a2=results.params.x2\n",
    "#r2=results.rsquared\n",
    "#y_pred=a0+a1*x1data+a2*x2data\n",
    "#plt.scatter(ydata,y_pred,color='blue')\n",
    "#plt.xlabel('Y Data - final exam grade')\n",
    "#plt.ylabel('Y Predict - final exam grade')\n",
    "#plt.title('Y_pred=a0+a1*x1+a2*x2 with variance explained r2='+str(round(r2,2)))\n",
    "#print('Variance explained (R2) is larger with two predictors than with one: '+str(round(r2,2))+' > '+str(round(r_value_x2y*r_value_x2y,2)))"
   ]
  },
  {
   "cell_type": "code",
   "execution_count": null,
   "metadata": {},
   "outputs": [],
   "source": []
  }
 ],
 "metadata": {
  "kernelspec": {
   "display_name": "Python 3",
   "language": "python",
   "name": "python3"
  },
  "language_info": {
   "codemirror_mode": {
    "name": "ipython",
    "version": 3
   },
   "file_extension": ".py",
   "mimetype": "text/x-python",
   "name": "python",
   "nbconvert_exporter": "python",
   "pygments_lexer": "ipython3",
   "version": "3.6.11"
  }
 },
 "nbformat": 4,
 "nbformat_minor": 2
}
